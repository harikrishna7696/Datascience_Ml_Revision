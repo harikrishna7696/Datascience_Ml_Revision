{
 "cells": [
  {
   "cell_type": "markdown",
   "id": "f09e5ea4",
   "metadata": {},
   "source": [
    "* All the machine learning systems will use tensors as Data Structure"
   ]
  },
  {
   "cell_type": "markdown",
   "id": "e1f037c2",
   "metadata": {},
   "source": [
    "### Scaler(0D Tensor): A tensor which will only contain one number(scaler tensor) "
   ]
  },
  {
   "cell_type": "code",
   "execution_count": 6,
   "id": "bcb266d9",
   "metadata": {},
   "outputs": [
    {
     "name": "stdout",
     "output_type": "stream",
     "text": [
      "tensor_0D(Scaler): Dimnesion 0\n"
     ]
    }
   ],
   "source": [
    "import numpy as np\n",
    "\n",
    "tensor_0D = np.array(1)\n",
    "print(\"tensor_0D(Scaler): Dimnesion\", tensor_0D.ndim)"
   ]
  },
  {
   "cell_type": "markdown",
   "id": "8d6597db",
   "metadata": {},
   "source": [
    "### Vectors(1D Tensor): An array of numbers is called Vector. A Vector is need to have only one axis(dim)"
   ]
  },
  {
   "cell_type": "code",
   "execution_count": 8,
   "id": "babb5d85",
   "metadata": {},
   "outputs": [
    {
     "name": "stdout",
     "output_type": "stream",
     "text": [
      "tensor_1D(Vector): Dimension 1\n"
     ]
    }
   ],
   "source": [
    "tensor_1D = np.array([1,5,6,6,96])\n",
    "\n",
    "print(\"tensor_1D(Vector): Dimension\", tensor_1D.ndim)"
   ]
  },
  {
   "cell_type": "markdown",
   "id": "94834ebb",
   "metadata": {},
   "source": [
    "### Matrices(2D Tensor): The arrays of vectors is matrice."
   ]
  },
  {
   "cell_type": "code",
   "execution_count": 15,
   "id": "ea62c43c",
   "metadata": {},
   "outputs": [
    {
     "name": "stdout",
     "output_type": "stream",
     "text": [
      "tensor_2D(Matrices):  2\n"
     ]
    }
   ],
   "source": [
    "matrice = np.array([[1,2,3,4,5],[5,8,9,9,10]])\n",
    "print(\"tensor_2D(Matrices): \", matrice.ndim)"
   ]
  },
  {
   "cell_type": "markdown",
   "id": "730782ca",
   "metadata": {},
   "source": [
    "### 3D_tensor(Higher Dimensional array): if we pack mulitple metrices in 1 array it will be 3D tensor, "
   ]
  },
  {
   "cell_type": "code",
   "execution_count": 20,
   "id": "06dc49b5",
   "metadata": {},
   "outputs": [
    {
     "name": "stdout",
     "output_type": "stream",
     "text": [
      "tensor_3D(Higher Dimensions):  3\n"
     ]
    }
   ],
   "source": [
    "tensor_3D = np.array([matrice, matrice])\n",
    "print(\"tensor_3D(Higher Dimensions): \", tensor_3D.ndim)"
   ]
  },
  {
   "cell_type": "markdown",
   "id": "eeb8ee69",
   "metadata": {},
   "source": [
    "### Note: If we pack 3D_tensors it will become 4D and so on. Generally in deep learning we deals with 0 to 4D, although we may go upto 5D when we process the video data"
   ]
  }
 ],
 "metadata": {
  "kernelspec": {
   "display_name": "Python 3 (ipykernel)",
   "language": "python",
   "name": "python3"
  },
  "language_info": {
   "codemirror_mode": {
    "name": "ipython",
    "version": 3
   },
   "file_extension": ".py",
   "mimetype": "text/x-python",
   "name": "python",
   "nbconvert_exporter": "python",
   "pygments_lexer": "ipython3",
   "version": "3.10.9"
  }
 },
 "nbformat": 4,
 "nbformat_minor": 5
}
