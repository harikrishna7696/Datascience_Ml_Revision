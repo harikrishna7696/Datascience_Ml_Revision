{
 "cells": [
  {
   "cell_type": "code",
   "execution_count": 1,
   "id": "7129b12b",
   "metadata": {},
   "outputs": [],
   "source": [
    "# Will create a classification neural network model using tensorflow keras api\n",
    "# 1) Get the mnist data from keras dataset\n",
    "# 2) split and normailize the data\n",
    "# 3) create a neural network model\n",
    "# 4) train the model\n",
    "# 5) Predict the output"
   ]
  },
  {
   "cell_type": "code",
   "execution_count": 2,
   "id": "8ee364c0",
   "metadata": {},
   "outputs": [],
   "source": [
    "import numpy as np\n",
    "import pandas as pd\n",
    "from tensorflow import keras\n",
    "import matplotlib.pyplot as plt"
   ]
  },
  {
   "cell_type": "code",
   "execution_count": 3,
   "id": "171a739d",
   "metadata": {},
   "outputs": [
    {
     "data": {
      "text/plain": [
       "[]"
      ]
     },
     "execution_count": 3,
     "metadata": {},
     "output_type": "execute_result"
    }
   ],
   "source": [
    "# lets check the is gpu available or not\n",
    "import tensorflow as tf\n",
    "tf.config.list_physical_devices(\"GPU\")"
   ]
  },
  {
   "cell_type": "code",
   "execution_count": 4,
   "id": "f82f477d",
   "metadata": {},
   "outputs": [],
   "source": [
    "# from above we get to know that no gpus are avilable in the system"
   ]
  },
  {
   "cell_type": "code",
   "execution_count": 5,
   "id": "7fcea2a1",
   "metadata": {},
   "outputs": [],
   "source": [
    "# 1) lets get the mnist dataset \n",
    "(x_train, y_train), (x_test, y_test) = keras.datasets.mnist.load_data()"
   ]
  },
  {
   "cell_type": "code",
   "execution_count": 6,
   "id": "a2314397",
   "metadata": {},
   "outputs": [
    {
     "name": "stdout",
     "output_type": "stream",
     "text": [
      "training dataset (60000, 28, 28) (60000,)\n",
      "test dataset (10000, 28, 28) (10000,)\n"
     ]
    }
   ],
   "source": [
    "# lets check the shapes of the datasets\n",
    "print(\"training dataset\", x_train.shape, y_train.shape)\n",
    "print(\"test dataset\", x_test.shape, y_test.shape)"
   ]
  },
  {
   "cell_type": "code",
   "execution_count": 7,
   "id": "138d16ff",
   "metadata": {},
   "outputs": [],
   "source": [
    "# lets split the test data into val data useful when we are training the model for calculation of the accuracy\n",
    "x_val, y_val = x_test[:5000], y_test[5000:]"
   ]
  },
  {
   "cell_type": "code",
   "execution_count": 8,
   "id": "3f3f3b2b",
   "metadata": {},
   "outputs": [],
   "source": [
    "x_test, y_test = x_test[5000:], y_test[5000:]"
   ]
  },
  {
   "cell_type": "code",
   "execution_count": 9,
   "id": "735d09c1",
   "metadata": {},
   "outputs": [],
   "source": [
    "# 2) create the model\n",
    "model = tf.keras.Sequential([tf.keras.layers.Flatten(input_shape=[28, 28], name='InputLayer'),\n",
    "                            tf.keras.layers.Dense(500, activation='relu', name='HiddenLayer1'),\n",
    "                            tf.keras.layers.Dense(200, activation='relu', name='HiddenLayer2'),\n",
    "                            tf.keras.layers.Dense(10, activation='softmax', name='OutputLayer')])"
   ]
  },
  {
   "cell_type": "code",
   "execution_count": 10,
   "id": "26b08fe7",
   "metadata": {},
   "outputs": [],
   "source": [
    "# initially we give random weights and bias\n",
    "weights, bias = model.get_layer('HiddenLayer1').get_weights()"
   ]
  },
  {
   "cell_type": "code",
   "execution_count": 11,
   "id": "44aaa303",
   "metadata": {},
   "outputs": [
    {
     "data": {
      "text/plain": [
       "array([[-0.00384511, -0.0615715 , -0.02370884, ..., -0.02552035,\n",
       "        -0.02408959, -0.042859  ],\n",
       "       [-0.05403202, -0.06310175, -0.01519222, ..., -0.06686401,\n",
       "        -0.00639951, -0.06573599],\n",
       "       [ 0.05991612, -0.03811952, -0.00621482, ...,  0.03882692,\n",
       "         0.06288143,  0.0081073 ],\n",
       "       ...,\n",
       "       [-0.05711248,  0.05931308, -0.02917973, ..., -0.00484321,\n",
       "        -0.03514673, -0.05875482],\n",
       "       [-0.02726556, -0.04182765, -0.02099376, ..., -0.04620869,\n",
       "        -0.01973487,  0.04605086],\n",
       "       [ 0.05974668, -0.00887119,  0.05762791, ..., -0.04617321,\n",
       "        -0.03511565, -0.04687456]], dtype=float32)"
      ]
     },
     "execution_count": 11,
     "metadata": {},
     "output_type": "execute_result"
    }
   ],
   "source": [
    "weights"
   ]
  },
  {
   "cell_type": "code",
   "execution_count": 12,
   "id": "4a957686",
   "metadata": {},
   "outputs": [
    {
     "data": {
      "text/plain": [
       "array([0., 0., 0., 0., 0., 0., 0., 0., 0., 0., 0., 0., 0., 0., 0., 0., 0.,\n",
       "       0., 0., 0., 0., 0., 0., 0., 0., 0., 0., 0., 0., 0., 0., 0., 0., 0.,\n",
       "       0., 0., 0., 0., 0., 0., 0., 0., 0., 0., 0., 0., 0., 0., 0., 0., 0.,\n",
       "       0., 0., 0., 0., 0., 0., 0., 0., 0., 0., 0., 0., 0., 0., 0., 0., 0.,\n",
       "       0., 0., 0., 0., 0., 0., 0., 0., 0., 0., 0., 0., 0., 0., 0., 0., 0.,\n",
       "       0., 0., 0., 0., 0., 0., 0., 0., 0., 0., 0., 0., 0., 0., 0., 0., 0.,\n",
       "       0., 0., 0., 0., 0., 0., 0., 0., 0., 0., 0., 0., 0., 0., 0., 0., 0.,\n",
       "       0., 0., 0., 0., 0., 0., 0., 0., 0., 0., 0., 0., 0., 0., 0., 0., 0.,\n",
       "       0., 0., 0., 0., 0., 0., 0., 0., 0., 0., 0., 0., 0., 0., 0., 0., 0.,\n",
       "       0., 0., 0., 0., 0., 0., 0., 0., 0., 0., 0., 0., 0., 0., 0., 0., 0.,\n",
       "       0., 0., 0., 0., 0., 0., 0., 0., 0., 0., 0., 0., 0., 0., 0., 0., 0.,\n",
       "       0., 0., 0., 0., 0., 0., 0., 0., 0., 0., 0., 0., 0., 0., 0., 0., 0.,\n",
       "       0., 0., 0., 0., 0., 0., 0., 0., 0., 0., 0., 0., 0., 0., 0., 0., 0.,\n",
       "       0., 0., 0., 0., 0., 0., 0., 0., 0., 0., 0., 0., 0., 0., 0., 0., 0.,\n",
       "       0., 0., 0., 0., 0., 0., 0., 0., 0., 0., 0., 0., 0., 0., 0., 0., 0.,\n",
       "       0., 0., 0., 0., 0., 0., 0., 0., 0., 0., 0., 0., 0., 0., 0., 0., 0.,\n",
       "       0., 0., 0., 0., 0., 0., 0., 0., 0., 0., 0., 0., 0., 0., 0., 0., 0.,\n",
       "       0., 0., 0., 0., 0., 0., 0., 0., 0., 0., 0., 0., 0., 0., 0., 0., 0.,\n",
       "       0., 0., 0., 0., 0., 0., 0., 0., 0., 0., 0., 0., 0., 0., 0., 0., 0.,\n",
       "       0., 0., 0., 0., 0., 0., 0., 0., 0., 0., 0., 0., 0., 0., 0., 0., 0.,\n",
       "       0., 0., 0., 0., 0., 0., 0., 0., 0., 0., 0., 0., 0., 0., 0., 0., 0.,\n",
       "       0., 0., 0., 0., 0., 0., 0., 0., 0., 0., 0., 0., 0., 0., 0., 0., 0.,\n",
       "       0., 0., 0., 0., 0., 0., 0., 0., 0., 0., 0., 0., 0., 0., 0., 0., 0.,\n",
       "       0., 0., 0., 0., 0., 0., 0., 0., 0., 0., 0., 0., 0., 0., 0., 0., 0.,\n",
       "       0., 0., 0., 0., 0., 0., 0., 0., 0., 0., 0., 0., 0., 0., 0., 0., 0.,\n",
       "       0., 0., 0., 0., 0., 0., 0., 0., 0., 0., 0., 0., 0., 0., 0., 0., 0.,\n",
       "       0., 0., 0., 0., 0., 0., 0., 0., 0., 0., 0., 0., 0., 0., 0., 0., 0.,\n",
       "       0., 0., 0., 0., 0., 0., 0., 0., 0., 0., 0., 0., 0., 0., 0., 0., 0.,\n",
       "       0., 0., 0., 0., 0., 0., 0., 0., 0., 0., 0., 0., 0., 0., 0., 0., 0.,\n",
       "       0., 0., 0., 0., 0., 0., 0.], dtype=float32)"
      ]
     },
     "execution_count": 12,
     "metadata": {},
     "output_type": "execute_result"
    }
   ],
   "source": [
    "bias"
   ]
  },
  {
   "cell_type": "code",
   "execution_count": 13,
   "id": "54ac7e34",
   "metadata": {},
   "outputs": [
    {
     "name": "stdout",
     "output_type": "stream",
     "text": [
      "Model: \"sequential\"\n",
      "_________________________________________________________________\n",
      " Layer (type)                Output Shape              Param #   \n",
      "=================================================================\n",
      " InputLayer (Flatten)        (None, 784)               0         \n",
      "                                                                 \n",
      " HiddenLayer1 (Dense)        (None, 500)               392500    \n",
      "                                                                 \n",
      " HiddenLayer2 (Dense)        (None, 200)               100200    \n",
      "                                                                 \n",
      " OutputLayer (Dense)         (None, 10)                2010      \n",
      "                                                                 \n",
      "=================================================================\n",
      "Total params: 494,710\n",
      "Trainable params: 494,710\n",
      "Non-trainable params: 0\n",
      "_________________________________________________________________\n"
     ]
    }
   ],
   "source": [
    "model.summary()"
   ]
  },
  {
   "cell_type": "code",
   "execution_count": 14,
   "id": "b13bbe39",
   "metadata": {},
   "outputs": [
    {
     "name": "stdout",
     "output_type": "stream",
     "text": [
      "input_layer params 784\n"
     ]
    }
   ],
   "source": [
    "# lets understand the params of the model\n",
    "# layer 1, input is 28 28 if multiply the we get the input params\n",
    "print(\"input_layer params\", 28 * 28)"
   ]
  },
  {
   "cell_type": "code",
   "execution_count": 15,
   "id": "0eaefedd",
   "metadata": {},
   "outputs": [
    {
     "name": "stdout",
     "output_type": "stream",
     "text": [
      "HiddenLayer1 params 392500\n"
     ]
    }
   ],
   "source": [
    "# inputlayers +1(bias) * units\n",
    "print(\"HiddenLayer1 params\", (784 + 1)*500)"
   ]
  },
  {
   "cell_type": "code",
   "execution_count": 16,
   "id": "75896a2f",
   "metadata": {},
   "outputs": [
    {
     "name": "stdout",
     "output_type": "stream",
     "text": [
      "HiddenLayer2 params 100200\n"
     ]
    }
   ],
   "source": [
    "# HiddenLayer1 + 1(bias) * units\n",
    "print(\"HiddenLayer2 params\", (500 + 1)*200)"
   ]
  },
  {
   "cell_type": "code",
   "execution_count": 17,
   "id": "444c1835",
   "metadata": {},
   "outputs": [
    {
     "name": "stdout",
     "output_type": "stream",
     "text": [
      "OutputLayer params 2010\n"
     ]
    }
   ],
   "source": [
    "# OutputLayer + 1 (bias) * units\n",
    "print(\"OutputLayer params\", (200 + 1) * 10)"
   ]
  },
  {
   "cell_type": "code",
   "execution_count": 18,
   "id": "500d1c3b",
   "metadata": {},
   "outputs": [],
   "source": [
    "# lets normalize the data for training will divid the x /255\n",
    "x_train = x_train/255"
   ]
  },
  {
   "cell_type": "code",
   "execution_count": 19,
   "id": "0a762a99",
   "metadata": {},
   "outputs": [
    {
     "data": {
      "image/png": "[encoded data removed]",
      "text/plain": [
       "<Figure size 640x480 with 1 Axes>"
      ]
     },
     "metadata": {},
     "output_type": "display_data"
    }
   ],
   "source": [
    "# lets plot the one image\n",
    "plt.imshow(x_train[0], cmap='binary')\n",
    "plt.show()"
   ]
  },
  {
   "cell_type": "code",
   "execution_count": 20,
   "id": "ee15880d",
   "metadata": {},
   "outputs": [],
   "source": [
    "# parameters to train the model, \n",
    "LOSS_FUNCTION = 'sparse_categorical_crossentropy'\n",
    "OPTIMIZER='SGD'\n",
    "METRICS=['accuracy']\n",
    "model.compile(loss=LOSS_FUNCTION,\n",
    "              optimizer=OPTIMIZER,\n",
    "             metrics=METRICS)"
   ]
  },
  {
   "cell_type": "code",
   "execution_count": 21,
   "id": "06e5d376",
   "metadata": {},
   "outputs": [],
   "source": [
    "# callback to stop the training if the model is not improving\n",
    "# callback = keras.callbacks.EarlyStopping(patience=2,min_delta=0.1)"
   ]
  },
  {
   "cell_type": "code",
   "execution_count": 22,
   "id": "f18e6cef",
   "metadata": {},
   "outputs": [
    {
     "name": "stdout",
     "output_type": "stream",
     "text": [
      "Epoch 1/10\n",
      "1875/1875 [==============================] - 8s 4ms/step - loss: 0.5758 - accuracy: 0.8535 - val_loss: 1588.0413 - val_accuracy: 0.1018\n",
      "Epoch 2/10\n",
      "1875/1875 [==============================] - 8s 4ms/step - loss: 0.2712 - accuracy: 0.9227 - val_loss: 1801.4948 - val_accuracy: 0.1008\n",
      "Epoch 3/10\n",
      "1875/1875 [==============================] - 8s 4ms/step - loss: 0.2202 - accuracy: 0.9372 - val_loss: 1871.1466 - val_accuracy: 0.1020\n",
      "Epoch 4/10\n",
      "1875/1875 [==============================] - 8s 4ms/step - loss: 0.1866 - accuracy: 0.9466 - val_loss: 1958.6816 - val_accuracy: 0.1020\n",
      "Epoch 5/10\n",
      "1875/1875 [==============================] - 8s 4ms/step - loss: 0.1618 - accuracy: 0.9536 - val_loss: 2033.8768 - val_accuracy: 0.1020\n",
      "Epoch 6/10\n",
      "1875/1875 [==============================] - 8s 4ms/step - loss: 0.1423 - accuracy: 0.9592 - val_loss: 2073.6201 - val_accuracy: 0.1024\n",
      "Epoch 7/10\n",
      "1875/1875 [==============================] - 7s 4ms/step - loss: 0.1267 - accuracy: 0.9643 - val_loss: 2159.6699 - val_accuracy: 0.1028\n",
      "Epoch 8/10\n",
      "1875/1875 [==============================] - 7s 4ms/step - loss: 0.1138 - accuracy: 0.9677 - val_loss: 2196.2617 - val_accuracy: 0.1030\n",
      "Epoch 9/10\n",
      "1875/1875 [==============================] - 8s 4ms/step - loss: 0.1032 - accuracy: 0.9711 - val_loss: 2246.5830 - val_accuracy: 0.1024\n",
      "Epoch 10/10\n",
      "1875/1875 [==============================] - 8s 4ms/step - loss: 0.0944 - accuracy: 0.9734 - val_loss: 2301.4165 - val_accuracy: 0.1030\n"
     ]
    },
    {
     "data": {
      "text/plain": [
       "<keras.callbacks.History at 0x1c290cc3580>"
      ]
     },
     "execution_count": 22,
     "metadata": {},
     "output_type": "execute_result"
    }
   ],
   "source": [
    "# training teh model\n",
    "model.fit(x_train, y_train, validation_data=(x_val, y_val), epochs=10, batch_size=32)"
   ]
  },
  {
   "cell_type": "code",
   "execution_count": 23,
   "id": "0e0d1434",
   "metadata": {},
   "outputs": [
    {
     "name": "stdout",
     "output_type": "stream",
     "text": [
      "1/1 [==============================] - 0s 108ms/step\n",
      "Y_actual [3 9 9] Y_pred [3, 9, 9]\n"
     ]
    }
   ],
   "source": [
    "# lets test the model\n",
    "y_actual = y_test[:3]\n",
    "y_pred = model.predict(x_test[:3])\n",
    "y_predicted = []\n",
    "for i in y_pred:\n",
    "    y_predicted.append(np.argmax(i))\n",
    "print(\"Y_actual\", y_actual, \"Y_pred\", y_predicted)"
   ]
  },
  {
   "cell_type": "code",
   "execution_count": 24,
   "id": "da3042f3",
   "metadata": {},
   "outputs": [],
   "source": [
    "# the output the model is mathed lets plot the img"
   ]
  },
  {
   "cell_type": "code",
   "execution_count": 25,
   "id": "d3c8bd34",
   "metadata": {},
   "outputs": [
    {
     "data": {
      "image/png": "[encoded data removed]",
      "text/plain": [
       "<Figure size 640x480 with 1 Axes>"
      ]
     },
     "metadata": {},
     "output_type": "display_data"
    },
    {
     "data": {
      "image/png": "[encoded data removed]",
      "text/plain": [
       "<Figure size 640x480 with 1 Axes>"
      ]
     },
     "metadata": {},
     "output_type": "display_data"
    },
    {
     "data": {
      "image/png": "[encoded data removed]",
      "text/plain": [
       "<Figure size 640x480 with 1 Axes>"
      ]
     },
     "metadata": {},
     "output_type": "display_data"
    }
   ],
   "source": [
    "for i in x_test[:3]:\n",
    "    plt.imshow(i, cmap='binary')\n",
    "    plt.show()"
   ]
  },
  {
   "cell_type": "code",
   "execution_count": 26,
   "id": "901247de",
   "metadata": {},
   "outputs": [],
   "source": [
    "# you can we verify the above images"
   ]
  },
  {
   "cell_type": "code",
   "execution_count": null,
   "id": "45ff6c36",
   "metadata": {},
   "outputs": [],
   "source": []
  }
 ],
 "metadata": {
  "kernelspec": {
   "display_name": "Python 3 (ipykernel)",
   "language": "python",
   "name": "python3"
  },
  "language_info": {
   "codemirror_mode": {
    "name": "ipython",
    "version": 3
   },
   "file_extension": ".py",
   "mimetype": "text/x-python",
   "name": "python",
   "nbconvert_exporter": "python",
   "pygments_lexer": "ipython3",
   "version": "3.10.9"
  }
 },
 "nbformat": 4,
 "nbformat_minor": 5
}
