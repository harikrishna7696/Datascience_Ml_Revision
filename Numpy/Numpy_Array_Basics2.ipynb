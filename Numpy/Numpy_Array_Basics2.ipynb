{
 "cells": [
  {
   "cell_type": "code",
   "execution_count": 3,
   "id": "a4b04191",
   "metadata": {},
   "outputs": [
    {
     "data": {
      "text/plain": [
       "array([1, 2, 3, 4])"
      ]
     },
     "execution_count": 3,
     "metadata": {},
     "output_type": "execute_result"
    }
   ],
   "source": [
    "# creating a list and let's convert into array using the different functions\n",
    "import numpy as np\n",
    "\n",
    "l = [1,2,3,4]\n",
    "arr = np.array(l)\n",
    "arr"
   ]
  },
  {
   "cell_type": "code",
   "execution_count": 5,
   "id": "e36fb584",
   "metadata": {},
   "outputs": [
    {
     "data": {
      "text/plain": [
       "matrix([[1, 2, 3, 4]])"
      ]
     },
     "execution_count": 5,
     "metadata": {},
     "output_type": "execute_result"
    }
   ],
   "source": [
    "# mat -> It also an array\n",
    "# matrix is multi dimensional array\n",
    "np.mat(l)"
   ]
  },
  {
   "cell_type": "code",
   "execution_count": 6,
   "id": "93a6fe2c",
   "metadata": {},
   "outputs": [
    {
     "data": {
      "text/plain": [
       "array([1, 2, 3, 4])"
      ]
     },
     "execution_count": 6,
     "metadata": {},
     "output_type": "execute_result"
    }
   ],
   "source": [
    "np.asarray(l)"
   ]
  },
  {
   "cell_type": "code",
   "execution_count": 7,
   "id": "135b7060",
   "metadata": {},
   "outputs": [
    {
     "data": {
      "text/plain": [
       "array([1, 2, 3, 4])"
      ]
     },
     "execution_count": 7,
     "metadata": {},
     "output_type": "execute_result"
    }
   ],
   "source": [
    "np.asanyarray(l)"
   ]
  },
  {
   "cell_type": "code",
   "execution_count": 8,
   "id": "bd2274b4",
   "metadata": {},
   "outputs": [
    {
     "data": {
      "text/plain": [
       "array([[ 1,  2,  3,  4],\n",
       "       [ 7,  8,  9, 10]])"
      ]
     },
     "execution_count": 8,
     "metadata": {},
     "output_type": "execute_result"
    }
   ],
   "source": [
    "arr = np.array([[1,2,3,4], [7,8,9,10]])\n",
    "arr"
   ]
  },
  {
   "cell_type": "code",
   "execution_count": 9,
   "id": "eb49d0fc",
   "metadata": {},
   "outputs": [
    {
     "data": {
      "text/plain": [
       "array([[ 1,  2,  3,  4],\n",
       "       [ 7,  8,  9, 10]])"
      ]
     },
     "execution_count": 9,
     "metadata": {},
     "output_type": "execute_result"
    }
   ],
   "source": [
    "# lets make copy of array and assign to varible\n",
    "\n",
    "a = arr\n",
    "a"
   ]
  },
  {
   "cell_type": "code",
   "execution_count": 11,
   "id": "f7862cd6",
   "metadata": {},
   "outputs": [
    {
     "data": {
      "text/plain": [
       "array([[ 1,  2,  3,  4],\n",
       "       [ 7,  8,  9, 10]])"
      ]
     },
     "execution_count": 11,
     "metadata": {},
     "output_type": "execute_result"
    }
   ],
   "source": [
    "b = arr.copy()\n",
    "b"
   ]
  },
  {
   "cell_type": "code",
   "execution_count": 12,
   "id": "45cc9c4f",
   "metadata": {},
   "outputs": [
    {
     "data": {
      "text/plain": [
       "array([[   1, 7696,    3,    4],\n",
       "       [   7,    8,    9,   10]])"
      ]
     },
     "execution_count": 12,
     "metadata": {},
     "output_type": "execute_result"
    }
   ],
   "source": [
    "# let change the value of arr[0][1] -> 7696\n",
    "\n",
    "arr[0][1] = 7696\n",
    "arr"
   ]
  },
  {
   "cell_type": "code",
   "execution_count": 14,
   "id": "a4c22c53",
   "metadata": {},
   "outputs": [
    {
     "data": {
      "text/plain": [
       "array([[   1, 7696,    3,    4],\n",
       "       [   7,    8,    9,   10]])"
      ]
     },
     "execution_count": 14,
     "metadata": {},
     "output_type": "execute_result"
    }
   ],
   "source": [
    "# if you pring the a \n",
    "a\n",
    "# if you observe the value is changed\n",
    "# you know the assignment of value to varible\n",
    "# In pythone if you assigning some value as copy it won't store the data, it point to that original value address\n",
    "# If you change anything in original it will reflect in copy"
   ]
  },
  {
   "cell_type": "code",
   "execution_count": 16,
   "id": "45696591",
   "metadata": {},
   "outputs": [
    {
     "data": {
      "text/plain": [
       "array([[ 1,  2,  3,  4],\n",
       "       [ 7,  8,  9, 10]])"
      ]
     },
     "execution_count": 16,
     "metadata": {},
     "output_type": "execute_result"
    }
   ],
   "source": [
    "# The best way to is use iteratable.copy()\n",
    "b\n",
    "# Here change is not occured becaue it copy that value and store different address\n",
    "# Changing in the original value, it won't effect the copied value"
   ]
  },
  {
   "cell_type": "code",
   "execution_count": 18,
   "id": "92eaac48",
   "metadata": {},
   "outputs": [
    {
     "data": {
      "text/plain": [
       "array([[ 1,  2,  3,  4],\n",
       "       [ 7,  8,  9, 10]])"
      ]
     },
     "execution_count": 18,
     "metadata": {},
     "output_type": "execute_result"
    }
   ],
   "source": [
    "# another way to copy array is np.copy\n",
    "c = np.copy(b)\n",
    "c"
   ]
  },
  {
   "cell_type": "code",
   "execution_count": 20,
   "id": "882f459b",
   "metadata": {},
   "outputs": [
    {
     "name": "stdout",
     "output_type": "stream",
     "text": [
      "[1 2 3 4]\n",
      "[ 7  8  9 10]\n"
     ]
    }
   ],
   "source": [
    "# you can also use loops to get the values\n",
    "for i in c:\n",
    "    print(i)"
   ]
  },
  {
   "cell_type": "code",
   "execution_count": 24,
   "id": "a5e43be7",
   "metadata": {},
   "outputs": [
    {
     "data": {
      "text/plain": [
       "array([[ True,  True,  True,  True,  True],\n",
       "       [ True,  True,  True,  True,  True],\n",
       "       [False, False, False, False, False],\n",
       "       [False, False, False, False, False],\n",
       "       [False, False, False, False, False]])"
      ]
     },
     "execution_count": 24,
     "metadata": {},
     "output_type": "execute_result"
    }
   ],
   "source": [
    "# it is type of array creation, it will create the array with given condition function\n",
    "# np.fromfunction(func, shape, dtype=defualt(float))\n",
    "np.fromfunction(lambda i, j: i//2==0, (5, 5))"
   ]
  },
  {
   "cell_type": "code",
   "execution_count": 25,
   "id": "29b4700c",
   "metadata": {},
   "outputs": [
    {
     "data": {
      "text/plain": [
       "array([[0., 2., 4., 6.],\n",
       "       [1., 3., 5., 7.],\n",
       "       [2., 4., 6., 8.],\n",
       "       [3., 5., 7., 9.]])"
      ]
     },
     "execution_count": 25,
     "metadata": {},
     "output_type": "execute_result"
    }
   ],
   "source": [
    "np.fromfunction(lambda i, j: i+j*2, (4, 4))"
   ]
  },
  {
   "cell_type": "code",
   "execution_count": 33,
   "id": "ae8a9340",
   "metadata": {},
   "outputs": [
    {
     "data": {
      "text/plain": [
       "array([[ 0.,  1.,  4.,  9., 16.],\n",
       "       [ 1.,  4.,  9., 16., 25.],\n",
       "       [ 4.,  9., 16., 25., 36.],\n",
       "       [ 9., 16., 25., 36., 49.],\n",
       "       [16., 25., 36., 49., 64.]])"
      ]
     },
     "execution_count": 33,
     "metadata": {},
     "output_type": "execute_result"
    }
   ],
   "source": [
    "np.fromfunction(lambda i, j:np.square(i+j), (5, 5))"
   ]
  },
  {
   "cell_type": "code",
   "execution_count": 40,
   "id": "d2a84cf1",
   "metadata": {},
   "outputs": [
    {
     "data": {
      "text/plain": [
       "<generator object <genexpr> at 0x000001E06BB22A40>"
      ]
     },
     "execution_count": 40,
     "metadata": {},
     "output_type": "execute_result"
    }
   ],
   "source": [
    "# creating the array using the iterator\n",
    "\n",
    "generator = (i for i in range(10))\n",
    "generator"
   ]
  },
  {
   "cell_type": "code",
   "execution_count": 41,
   "id": "833f2a9c",
   "metadata": {},
   "outputs": [
    {
     "data": {
      "text/plain": [
       "0"
      ]
     },
     "execution_count": 41,
     "metadata": {},
     "output_type": "execute_result"
    }
   ],
   "source": [
    "# generator is nothing but it creates the data\n",
    "generator.__next__()"
   ]
  },
  {
   "cell_type": "code",
   "execution_count": 42,
   "id": "652ce114",
   "metadata": {},
   "outputs": [
    {
     "data": {
      "text/plain": [
       "array([1., 2., 3., 4., 5., 6., 7., 8., 9.])"
      ]
     },
     "execution_count": 42,
     "metadata": {},
     "output_type": "execute_result"
    }
   ],
   "source": [
    "# __next__() with generator object it returns the data\n",
    "# here we got from 1 because we already got 0 from __next__() function, once it return the value it forget\n",
    "# np.fromiter(generator, dtype=float) dtype is required\n",
    "np.fromiter(generator, dtype=float)"
   ]
  },
  {
   "cell_type": "code",
   "execution_count": 44,
   "id": "c8d15aaa",
   "metadata": {},
   "outputs": [
    {
     "data": {
      "text/plain": [
       "array([], dtype=float64)"
      ]
     },
     "execution_count": 44,
     "metadata": {},
     "output_type": "execute_result"
    }
   ],
   "source": [
    "# if you run again with that generator.\n",
    "# it will return the empty, because we already extraced the values above\n",
    "# Note: I previously mentioned once we access the values it will forget, \n",
    "# and keep in my mind, we cannot access with index and also we can't do slicing\n",
    "np.fromiter(generator, dtype=float)"
   ]
  },
  {
   "cell_type": "code",
   "execution_count": 50,
   "id": "e51385eb",
   "metadata": {},
   "outputs": [
    {
     "data": {
      "text/plain": [
       "<generator object <genexpr> at 0x000001E06BF98270>"
      ]
     },
     "execution_count": 50,
     "metadata": {},
     "output_type": "execute_result"
    }
   ],
   "source": [
    "# ex: lets create generator with 10\n",
    "gen = (i for i in range(10))\n",
    "gen"
   ]
  },
  {
   "cell_type": "code",
   "execution_count": 51,
   "id": "4560fd0f",
   "metadata": {},
   "outputs": [
    {
     "name": "stdout",
     "output_type": "stream",
     "text": [
      "0\n",
      "1\n",
      "2\n",
      "3\n",
      "4\n",
      "5\n",
      "6\n",
      "7\n",
      "8\n",
      "9\n"
     ]
    }
   ],
   "source": [
    "for i in range(0, 10):\n",
    "    print(gen.__next__())"
   ]
  },
  {
   "cell_type": "code",
   "execution_count": 54,
   "id": "404f52dd",
   "metadata": {},
   "outputs": [
    {
     "data": {
      "text/plain": [
       "array([10, 20, 30, 40, 50, 60])"
      ]
     },
     "execution_count": 54,
     "metadata": {},
     "output_type": "execute_result"
    }
   ],
   "source": [
    "# This will be very intersting, you know you can create array with string\n",
    "# fromstring(str, sep='', dtype=int)\n",
    "np.fromstring('10, 20, 30, 40, 50, 60', sep=',', dtype=int)"
   ]
  },
  {
   "cell_type": "code",
   "execution_count": 55,
   "id": "6475621b",
   "metadata": {},
   "outputs": [
    {
     "data": {
      "text/plain": [
       "array([ 50.,  60.,  80.,  90., 100.])"
      ]
     },
     "execution_count": 55,
     "metadata": {},
     "output_type": "execute_result"
    }
   ],
   "source": [
    "np.fromstring('50-60-80-90-100', sep='-')"
   ]
  },
  {
   "cell_type": "code",
   "execution_count": 73,
   "id": "1e27fcfd",
   "metadata": {},
   "outputs": [
    {
     "data": {
      "text/plain": [
       "array([[[1, 2, 3, 6, 4],\n",
       "        [4, 5, 8, 1, 2]],\n",
       "\n",
       "       [[1, 2, 3, 6, 4],\n",
       "        [4, 5, 8, 1, 2]]])"
      ]
     },
     "execution_count": 73,
     "metadata": {},
     "output_type": "execute_result"
    }
   ],
   "source": [
    "# let's jump into multi dimensional array\n",
    "\n",
    "arr2 = np.array([[[1,2,3,6,4], [4,5,8,1,2]], [[1,2,3,6,4], [4,5,8,1,2]]])\n",
    "arr2"
   ]
  },
  {
   "cell_type": "code",
   "execution_count": 74,
   "id": "f5a3d052",
   "metadata": {},
   "outputs": [
    {
     "data": {
      "text/plain": [
       "20"
      ]
     },
     "execution_count": 74,
     "metadata": {},
     "output_type": "execute_result"
    }
   ],
   "source": [
    "arr2.size # we have 20 values"
   ]
  },
  {
   "cell_type": "code",
   "execution_count": 75,
   "id": "65e09995",
   "metadata": {},
   "outputs": [
    {
     "data": {
      "text/plain": [
       "3"
      ]
     },
     "execution_count": 75,
     "metadata": {},
     "output_type": "execute_result"
    }
   ],
   "source": [
    "arr2.ndim # It is 4 dimensional arrat"
   ]
  },
  {
   "cell_type": "code",
   "execution_count": 77,
   "id": "733f0861",
   "metadata": {},
   "outputs": [
    {
     "data": {
      "text/plain": [
       "(2, 2, 5)"
      ]
     },
     "execution_count": 77,
     "metadata": {},
     "output_type": "execute_result"
    }
   ],
   "source": [
    "arr2.shape # we have 2 rows which contains (2, 4) shape 2rows 4 columns"
   ]
  },
  {
   "cell_type": "code",
   "execution_count": 79,
   "id": "13654d54",
   "metadata": {},
   "outputs": [
    {
     "ename": "TypeError",
     "evalue": "'float' object cannot be interpreted as an integer",
     "output_type": "error",
     "traceback": [
      "\u001b[1;31m---------------------------------------------------------------------------\u001b[0m",
      "\u001b[1;31mTypeError\u001b[0m                                 Traceback (most recent call last)",
      "Cell \u001b[1;32mIn[79], line 2\u001b[0m\n\u001b[0;32m      1\u001b[0m \u001b[38;5;66;03m# In python list using range(int), you can only give int, it wont take float\u001b[39;00m\n\u001b[1;32m----> 2\u001b[0m \u001b[38;5;28;43mrange\u001b[39;49m\u001b[43m(\u001b[49m\u001b[38;5;241;43m6.6\u001b[39;49m\u001b[43m)\u001b[49m\n",
      "\u001b[1;31mTypeError\u001b[0m: 'float' object cannot be interpreted as an integer"
     ]
    }
   ],
   "source": [
    "# In python list using range(int), you can only give int, it wont take float\n",
    "range(6.6)"
   ]
  },
  {
   "cell_type": "code",
   "execution_count": 80,
   "id": "16bcd8d0",
   "metadata": {},
   "outputs": [
    {
     "data": {
      "text/plain": [
       "array([0., 1., 2., 3., 4., 5., 6.])"
      ]
     },
     "execution_count": 80,
     "metadata": {},
     "output_type": "execute_result"
    }
   ],
   "source": [
    "# but in numpy array using arange() you can give floating numbers\n",
    "np.arange(6.6)"
   ]
  },
  {
   "cell_type": "code",
   "execution_count": 82,
   "id": "5635429d",
   "metadata": {},
   "outputs": [
    {
     "data": {
      "text/plain": [
       "array([1. , 2.5, 4. , 5.5])"
      ]
     },
     "execution_count": 82,
     "metadata": {},
     "output_type": "execute_result"
    }
   ],
   "source": [
    "np.arange(1, 6, 1.5)"
   ]
  },
  {
   "cell_type": "code",
   "execution_count": 84,
   "id": "937fdce4",
   "metadata": {},
   "outputs": [
    {
     "data": {
      "text/plain": [
       "array([10,  9,  8,  7,  6,  5,  4,  3,  2])"
      ]
     },
     "execution_count": 84,
     "metadata": {},
     "output_type": "execute_result"
    }
   ],
   "source": [
    "np.arange(10, 1, -1)"
   ]
  },
  {
   "cell_type": "code",
   "execution_count": 86,
   "id": "6af612fb",
   "metadata": {},
   "outputs": [
    {
     "data": {
      "text/plain": [
       "array([], dtype=int32)"
      ]
     },
     "execution_count": 86,
     "metadata": {},
     "output_type": "execute_result"
    }
   ],
   "source": [
    "# if you give negative index for incremented array it will return empty array, it won't throw error\n",
    "np.arange(4, 5, -1)"
   ]
  },
  {
   "cell_type": "code",
   "execution_count": 94,
   "id": "864dcad9",
   "metadata": {},
   "outputs": [
    {
     "data": {
      "text/plain": [
       "array([1.00000000e+01, 1.52641797e+01, 2.32995181e+01, 3.55648031e+01,\n",
       "       5.42867544e+01, 8.28642773e+01, 1.26485522e+02, 1.93069773e+02,\n",
       "       2.94705170e+02, 4.49843267e+02, 6.86648845e+02, 1.04811313e+03,\n",
       "       1.59985872e+03, 2.44205309e+03, 3.72759372e+03, 5.68986603e+03,\n",
       "       8.68511374e+03, 1.32571137e+04, 2.02358965e+04, 3.08884360e+04,\n",
       "       4.71486636e+04, 7.19685673e+04, 1.09854114e+05, 1.67683294e+05,\n",
       "       2.55954792e+05, 3.90693994e+05, 5.96362332e+05, 9.10298178e+05,\n",
       "       1.38949549e+06, 2.12095089e+06, 3.23745754e+06, 4.94171336e+06,\n",
       "       7.54312006e+06, 1.15139540e+07, 1.75751062e+07, 2.68269580e+07,\n",
       "       4.09491506e+07, 6.25055193e+07, 9.54095476e+07, 1.45634848e+08,\n",
       "       2.22299648e+08, 3.39322177e+08, 5.17947468e+08, 7.90604321e+08,\n",
       "       1.20679264e+09, 1.84206997e+09, 2.81176870e+09, 4.29193426e+09,\n",
       "       6.55128557e+09, 1.00000000e+10])"
      ]
     },
     "execution_count": 94,
     "metadata": {},
     "output_type": "execute_result"
    }
   ],
   "source": [
    "# Similar to logspace, but with the samples uniformly distributed in linear space, instead of log space.\n",
    "np.logspace(1, 10, endpoint=True, axis=0)"
   ]
  },
  {
   "cell_type": "code",
   "execution_count": 96,
   "id": "6128aab6",
   "metadata": {},
   "outputs": [
    {
     "data": {
      "text/plain": [
       "array([[1.00000000e+20, 6.25055193e+19, 3.90693994e+19, 2.44205309e+19,\n",
       "        1.52641797e+19, 9.54095476e+18, 5.96362332e+18, 3.72759372e+18,\n",
       "        2.32995181e+18, 1.45634848e+18, 9.10298178e+17, 5.68986603e+17,\n",
       "        3.55648031e+17, 2.22299648e+17, 1.38949549e+17, 8.68511374e+16,\n",
       "        5.42867544e+16, 3.39322177e+16, 2.12095089e+16, 1.32571137e+16,\n",
       "        8.28642773e+15, 5.17947468e+15, 3.23745754e+15, 2.02358965e+15,\n",
       "        1.26485522e+15, 7.90604321e+14, 4.94171336e+14, 3.08884360e+14,\n",
       "        1.93069773e+14, 1.20679264e+14, 7.54312006e+13, 4.71486636e+13,\n",
       "        2.94705170e+13, 1.84206997e+13, 1.15139540e+13, 7.19685673e+12,\n",
       "        4.49843267e+12, 2.81176870e+12, 1.75751062e+12, 1.09854114e+12,\n",
       "        6.86648845e+11, 4.29193426e+11, 2.68269580e+11, 1.67683294e+11,\n",
       "        1.04811313e+11, 6.55128557e+10, 4.09491506e+10, 2.55954792e+10,\n",
       "        1.59985872e+10, 1.00000000e+10],\n",
       "       [1.00000000e+40, 2.44205309e+39, 5.96362332e+38, 1.45634848e+38,\n",
       "        3.55648031e+37, 8.68511374e+36, 2.12095089e+36, 5.17947468e+35,\n",
       "        1.26485522e+35, 3.08884360e+34, 7.54312006e+33, 1.84206997e+33,\n",
       "        4.49843267e+32, 1.09854114e+32, 2.68269580e+31, 6.55128557e+30,\n",
       "        1.59985872e+30, 3.90693994e+29, 9.54095476e+28, 2.32995181e+28,\n",
       "        5.68986603e+27, 1.38949549e+27, 3.39322177e+26, 8.28642773e+25,\n",
       "        2.02358965e+25, 4.94171336e+24, 1.20679264e+24, 2.94705170e+23,\n",
       "        7.19685673e+22, 1.75751062e+22, 4.29193426e+21, 1.04811313e+21,\n",
       "        2.55954792e+20, 6.25055193e+19, 1.52641797e+19, 3.72759372e+18,\n",
       "        9.10298178e+17, 2.22299648e+17, 5.42867544e+16, 1.32571137e+16,\n",
       "        3.23745754e+15, 7.90604321e+14, 1.93069773e+14, 4.71486636e+13,\n",
       "        1.15139540e+13, 2.81176870e+12, 6.86648845e+11, 1.67683294e+11,\n",
       "        4.09491506e+10, 1.00000000e+10]])"
      ]
     },
     "execution_count": 96,
     "metadata": {},
     "output_type": "execute_result"
    }
   ],
   "source": [
    "np.logspace([20, 40], 10, endpoint=True, axis=1)"
   ]
  },
  {
   "cell_type": "code",
   "execution_count": 99,
   "id": "505004fa",
   "metadata": {},
   "outputs": [
    {
     "data": {
      "text/plain": [
       "array([ 0.49410145,  1.06278933, -0.03329742,  0.35482207])"
      ]
     },
     "execution_count": 99,
     "metadata": {},
     "output_type": "execute_result"
    }
   ],
   "source": [
    "# we can also create the array with random numbers\n",
    "np.random.randn(4) # it will return the array with 4 random values"
   ]
  },
  {
   "cell_type": "code",
   "execution_count": 101,
   "id": "23fdc563",
   "metadata": {},
   "outputs": [
    {
     "data": {
      "text/plain": [
       "array([[59, 55, 22, 18,  4],\n",
       "       [70, 98, 13, 33, 84],\n",
       "       [92, 60, 58, 38, 16],\n",
       "       [98, 83, 49, 17, 76],\n",
       "       [41, 85, 72, 60, 27],\n",
       "       [97, 24, 37, 92, 69],\n",
       "       [60, 48,  3, 29, 96],\n",
       "       [37, 47, 48,  5,  6],\n",
       "       [ 4, 99, 62, 20, 62],\n",
       "       [ 2, 19, 88, 72, 59]])"
      ]
     },
     "execution_count": 101,
     "metadata": {},
     "output_type": "execute_result"
    }
   ],
   "source": [
    "#np.random.randint(start, stop, size=(row, column))\n",
    "np.random.randint(2, 100, (10, 5)) "
   ]
  },
  {
   "cell_type": "code",
   "execution_count": 105,
   "id": "dc181a8d",
   "metadata": {},
   "outputs": [
    {
     "data": {
      "text/plain": [
       "array([[0.32835842, 0.6192776 , 0.40058841, 0.57889582, 0.62058741,\n",
       "        0.90903836, 0.7539173 , 0.0846393 , 0.84325526, 0.35064235],\n",
       "       [0.40530894, 0.09145781, 0.92053969, 0.18269584, 0.02312549,\n",
       "        0.72773282, 0.37334738, 0.38432538, 0.26789167, 0.20662599],\n",
       "       [0.73674017, 0.12190745, 0.42050156, 0.2229833 , 0.42238046,\n",
       "        0.88748881, 0.2145482 , 0.70017495, 0.96352267, 0.95614605],\n",
       "       [0.15561046, 0.60857519, 0.6866634 , 0.11539209, 0.95383428,\n",
       "        0.27060933, 0.17693925, 0.11082144, 0.59864473, 0.87580489],\n",
       "       [0.28902129, 0.13385403, 0.43725623, 0.73943865, 0.17817223,\n",
       "        0.69763972, 0.76340672, 0.60086517, 0.12248608, 0.47047758]])"
      ]
     },
     "execution_count": 105,
     "metadata": {},
     "output_type": "execute_result"
    }
   ],
   "source": [
    "# using random_sample you create the, \n",
    "# giving the shape as input it will return array with some random sample\n",
    "arr = np.random.random_sample((5, 10))\n",
    "arr"
   ]
  },
  {
   "cell_type": "code",
   "execution_count": 108,
   "id": "fcdc332e",
   "metadata": {},
   "outputs": [
    {
     "data": {
      "text/plain": [
       "array([[0.6192776 , 0.40058841, 0.57889582],\n",
       "       [0.09145781, 0.92053969, 0.18269584],\n",
       "       [0.12190745, 0.42050156, 0.2229833 ],\n",
       "       [0.60857519, 0.6866634 , 0.11539209],\n",
       "       [0.13385403, 0.43725623, 0.73943865]])"
      ]
     },
     "execution_count": 108,
     "metadata": {},
     "output_type": "execute_result"
    }
   ],
   "source": [
    "arr[0:5, [1, 2, 3]]"
   ]
  },
  {
   "cell_type": "code",
   "execution_count": 110,
   "id": "fa0af2ac",
   "metadata": {},
   "outputs": [
    {
     "data": {
      "text/plain": [
       "array([[0.62058741, 0.90903836],\n",
       "       [0.02312549, 0.72773282],\n",
       "       [0.42238046, 0.88748881],\n",
       "       [0.95383428, 0.27060933],\n",
       "       [0.17817223, 0.69763972]])"
      ]
     },
     "execution_count": 110,
     "metadata": {},
     "output_type": "execute_result"
    }
   ],
   "source": [
    "arr[:, 4:6]"
   ]
  },
  {
   "cell_type": "code",
   "execution_count": 112,
   "id": "6b764a00",
   "metadata": {},
   "outputs": [
    {
     "data": {
      "text/plain": [
       "array([[0.32835842, 0.57889582],\n",
       "       [0.40530894, 0.18269584],\n",
       "       [0.73674017, 0.2229833 ],\n",
       "       [0.15561046, 0.11539209],\n",
       "       [0.28902129, 0.73943865]])"
      ]
     },
     "execution_count": 112,
     "metadata": {},
     "output_type": "execute_result"
    }
   ],
   "source": [
    "arr[:, [0, 3]]"
   ]
  },
  {
   "cell_type": "code",
   "execution_count": null,
   "id": "f37bdb88",
   "metadata": {},
   "outputs": [],
   "source": []
  }
 ],
 "metadata": {
  "kernelspec": {
   "display_name": "Python 3 (ipykernel)",
   "language": "python",
   "name": "python3"
  },
  "language_info": {
   "codemirror_mode": {
    "name": "ipython",
    "version": 3
   },
   "file_extension": ".py",
   "mimetype": "text/x-python",
   "name": "python",
   "nbconvert_exporter": "python",
   "pygments_lexer": "ipython3",
   "version": "3.10.9"
  }
 },
 "nbformat": 4,
 "nbformat_minor": 5
}
