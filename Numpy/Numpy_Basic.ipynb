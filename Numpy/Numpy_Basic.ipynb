{
 "cells": [
  {
   "cell_type": "markdown",
   "id": "a38987ac",
   "metadata": {},
   "source": [
    ">## In this You get to know why numpy is faster than the python list? and How?\n",
    ">## and, Basic Numpy array creations.\n",
    "> **Hope You Learn Something.**"
   ]
  },
  {
   "cell_type": "markdown",
   "id": "0dafecde",
   "metadata": {},
   "source": [
    "> Numpy is a python library that basically deals with the numbers, It is very faster than python list and also it takes very less memory to store etc."
   ]
  },
  {
   "cell_type": "markdown",
   "id": "5a0bbe5e",
   "metadata": {},
   "source": [
    "## Space Check"
   ]
  },
  {
   "cell_type": "code",
   "execution_count": 5,
   "id": "f4f83720",
   "metadata": {},
   "outputs": [],
   "source": [
    "from colorama import Fore\n",
    "import numpy as np"
   ]
  },
  {
   "cell_type": "code",
   "execution_count": 6,
   "id": "b83e74af",
   "metadata": {},
   "outputs": [
    {
     "name": "stdout",
     "output_type": "stream",
     "text": [
      "\u001b[30m Numpy, Memory for 1 element and 1000 element\n",
      "\u001b[34m Value: 3 Spaced taken for Single element: 4 Bytes\n",
      "\u001b[34m Total space taken for 10000 element: 40000\n"
     ]
    }
   ],
   "source": [
    "arr = np.arange(1, 10000)\n",
    "print(Fore.BLACK, \"Numpy, Memory for 1 element and 1000 element\")\n",
    "print(Fore.BLUE, f\"Value: {arr[2]} Spaced taken for Single element: {arr[0].itemsize} Bytes\")\n",
    "print(Fore.BLUE, \"Total space taken for 10000 element: {}\".format(arr[0].itemsize * 10000))"
   ]
  },
  {
   "cell_type": "code",
   "execution_count": 7,
   "id": "e9c22e42",
   "metadata": {},
   "outputs": [
    {
     "name": "stdout",
     "output_type": "stream",
     "text": [
      "\u001b[95m Python List, Memory taken for 1 element and 1000 element\n",
      " Value: 3 Space taken Single element: 28\n",
      " Total space taken for 10000 elements: 280000\n"
     ]
    }
   ],
   "source": [
    "import sys \n",
    "li = [i for i in range(1, 10000)]\n",
    "print(Fore.LIGHTMAGENTA_EX,\"Python List, Memory taken for 1 element and 1000 element\")\n",
    "print(f\" Value: {li[2]} Space taken Single element: {sys.getsizeof(li[2])}\")\n",
    "print(f\" Total space taken for 10000 elements: {sys.getsizeof(li[2]) * 10000}\")"
   ]
  },
  {
   "cell_type": "markdown",
   "id": "340d6b04",
   "metadata": {},
   "source": [
    "#### Conlusion for space utilization for python list and numpy array\n",
    "> **For Numpy single element it took only  4 bytes.**\n",
    "\n",
    "> **For Python List single element it took 27 bytes.**"
   ]
  },
  {
   "cell_type": "markdown",
   "id": "46fe38cc",
   "metadata": {},
   "source": [
    "## Speed Check"
   ]
  },
  {
   "cell_type": "code",
   "execution_count": 26,
   "id": "2354cab1",
   "metadata": {},
   "outputs": [
    {
     "name": "stdout",
     "output_type": "stream",
     "text": [
      "Numpy Array, Time taken to multiply for 10 lakh elements: 0.015623331069946289\n",
      "Python List, Time taken to multiply for 10 lakh elements: 0.3138282299041748\n"
     ]
    }
   ],
   "source": [
    "### Taking the 10000 elements for Python list and also for Numpy array\n",
    "import time\n",
    "\n",
    "\n",
    "# here i am taking 10 lakh to iterated and check the time\n",
    "size = 1000000\n",
    "\n",
    "def arr_mul():\n",
    "    # creating the 2 arrays to multiply\n",
    "    arr1 = np.arange(size)\n",
    "    arr2 = np.arange(size)\n",
    "    # starting time \n",
    "    t1 = time.time()\n",
    "    # just give * this will do multiply element by element ex: arr1[0]*arr2[0], arr1[1] * arr[1] \n",
    "    c = arr1 * arr2\n",
    "    # removing the star time from current time to get the total time\n",
    "    return time.time()-t1\n",
    "    \n",
    "    \n",
    "def li_mul():\n",
    "    # Creating the 2 lists to multiply\n",
    "    a = range(size)\n",
    "    b = range(size)\n",
    "    # Starting time to do multiply\n",
    "    t2 = time.time()\n",
    "    # iterating throgh list and adding each element individually\n",
    "    c = [a[i]*b[i] for i in range(size)]\n",
    "    return time.time()-t2\n",
    "    \n",
    "print(f\"Numpy Array, Time taken to multiply for 10 lakh elements: {arr_mul()}\")\n",
    "print(f\"Python List, Time taken to multiply for 10 lakh elements: {li_mul()}\")"
   ]
  },
  {
   "cell_type": "markdown",
   "id": "2d12eab7",
   "metadata": {},
   "source": [
    "### conclusion of speed \n",
    "> Numpy Arrays: You can observe the above time results **numpy taken 0.015 milliseconds,\n",
    "    To process 10 lakh elements**.\n",
    "\n",
    "> Python Lists: **This taken 0.3138 milliseconds to process the 10 lakh elements.**"
   ]
  },
  {
   "cell_type": "markdown",
   "id": "c623f13e",
   "metadata": {},
   "source": [
    "#### So let's start to create the numpy arrays"
   ]
  },
  {
   "cell_type": "raw",
   "id": "fcd65143",
   "metadata": {},
   "source": [
    "First let's start with the basic numpy creations.\n",
    "Note: when you are going to create array using numpy with different function default datatype is float\n",
    "Precedence: higher string, float, least int."
   ]
  },
  {
   "cell_type": "code",
   "execution_count": 27,
   "id": "fd323aa4",
   "metadata": {},
   "outputs": [
    {
     "name": "stdout",
     "output_type": "stream",
     "text": [
      "array with single element: 10, type: <class 'numpy.ndarray'>\n",
      "array with mulitple elements: [ 1  5  7  4 78  4], type: <class 'numpy.ndarray'>\n",
      "arr1_shape: () and arr2_shape\" (6,)\n",
      "\n",
      "\u001b[31m Note: For arr1 the shape is empty, you might be thought shape must be (1, ),\n",
      "But Once you call np.array() it is an arbitary object (It doesn't have any fixed size) it is 0D array\n",
      "but however size is 0, np.arra([10])-> 1d, np.array([[10]]) 2D like this you can go upto nD array.\n",
      "\n",
      "arr2 shape is (6) it is a 0D array with 6 columns\n"
     ]
    }
   ],
   "source": [
    "## np.array(shape, dtype) --> dtype: datatype.\n",
    "arr1 = np.array(10) # I given 10 it will create an array with single element.\n",
    "print(f'array with single element: {arr1}, type: {type(arr)}')\n",
    "\n",
    "## If you want to create array with multiple elements just pass a list.\n",
    "arr2 = np.array([1,5,7,4,78,4]) # I passed a list it will create array using that list.\n",
    "print(f'array with mulitple elements: {arr2}, type: {type(arr)}')\n",
    "\n",
    "## also you can print the array shape using array.shape.\n",
    "## so i print the shapes of above array's.\n",
    "\n",
    "print(f'arr1_shape: {arr1.shape} and arr2_shape\" {arr2.shape}\\n')\n",
    "print(Fore.RED, \"\"\"Note: For arr1 the shape is empty, you might be thought shape must be (1, ),\n",
    "But Once you call np.array() it is an arbitary object (It doesn't have any fixed size) it is 0D array\n",
    "but however size is 0, np.arra([10])-> 1d, np.array([[10]]) 2D like this you can go upto nD array.\\n\"\"\")\n",
    "\n",
    "print(f'arr2 shape is (6) it is a 0D array with 6 columns')"
   ]
  },
  {
   "cell_type": "code",
   "execution_count": 38,
   "id": "a28d7fb1",
   "metadata": {
    "scrolled": true
   },
   "outputs": [
    {
     "name": "stdout",
     "output_type": "stream",
     "text": [
      "arr3:  ['5' '6' '4' 'data_science' '1.4'] \n",
      "You can observe here when you are giving the int,str,float. It converting all\n",
      "values into string, whenever we give str with other it will give higher priority.\n",
      "arr4:  [1. 2. 2. 3.] \n",
      " As I told the Priorities so we removed string, after it converting into float\n",
      "\n",
      "\u001b[32m Note: You can mention datatype which you need while creating.\n",
      "Int to Float arr5:  [1. 2. 3. 5.]\n",
      "Int to String arr6:  ['1' '2' '3' '5']\n",
      "Str and Float to int arr7:  [1 2 3 4]\n",
      "\u001b[31m Note: When you are going to convert to int or float, make sure that, Any alphabets \n",
      "not be include. You can give number as string ex: '1', '2', not this ex: 'a', 'any'.\n"
     ]
    }
   ],
   "source": [
    "## Another important is when you are passing the array it need to be same datatype.\n",
    "## Numpy array only contains the Homogenous elements let's deep dive into dtypes, how can we use.\n",
    "\n",
    "## I am passing the different datatypes in numpy array let's see how it behave's.\n",
    "arr3 = np.array([5, 6, 4, 'data_science', 1.4]) # here i passed int, str, float.\n",
    "\n",
    "## Let's print and observe the output.\n",
    "print(\"arr3: \", arr3, \"\"\"\\nYou can observe here when you are giving the int,str,float. It converting all\n",
    "values into string, whenever we give str with other it will give higher priority.\"\"\")\n",
    "\n",
    "## Let's remove str and give int and float, let's check which it will take as priority.\n",
    "\n",
    "arr4 = np.array([1, 2, 2.0,3])\n",
    "print(\"arr4: \",arr4, \"\\n As I told the Priorities so we removed string, after it converting into float\")\n",
    "\n",
    "print()\n",
    "\n",
    "print(Fore.GREEN, \"Note: You can mention datatype which you need while creating.\")\n",
    "# lets create array with specified datatype\n",
    "arr5 = np.array([1, 2, 3, 5], dtype=float) # I given int but converting into float\n",
    "print('Int to Float', \"arr5: \", arr5)\n",
    "\n",
    "arr6 = np.array([1, 2, 3, 5], dtype=str) # and also as string\n",
    "print('Int to String', \"arr6: \", arr6)\n",
    "\n",
    "arr7 = np.array(['1', '2', 3, 4.0], dtype=int) # here i give string number and float and converted to int\n",
    "print('Str and Float to int', \"arr7: \", arr7)\n",
    "\n",
    "print(Fore.RED, \"\"\"Note: When you are going to convert to int or float, make sure that, Any alphabets \n",
    "not be include. You can give number as string ex: '1', '2', not this ex: 'a', 'any'.\"\"\")"
   ]
  },
  {
   "cell_type": "code",
   "execution_count": 36,
   "id": "f21a8cd0",
   "metadata": {},
   "outputs": [
    {
     "name": "stdout",
     "output_type": "stream",
     "text": [
      "arr8:  [ 1  2  3  4  5  6  7  8  9 10 11 12 13 14 15 16 17 18 19 20 21 22 23 24\n",
      " 25 26 27 28 29 30 31 32 33 34 35 36 37 38 39 40 41 42 43 44 45 46 47 48\n",
      " 49 50 51 52 53 54 55 56 57 58 59 60 61 62 63 64 65 66 67 68 69 70 71 72\n",
      " 73 74 75 76 77 78 79 80 81 82 83 84 85 86 87 88 89 90 91 92 93 94 95 96\n",
      " 97 98 99] \n",
      "Created array with 1, 100. It will start from 1 it go till 99, start will be inclusive and end will exlusive.\n",
      "arr9:  [ 1  4  7 10 13 16 19] \n",
      "It created array start with 1 taking step as 3. You can observe array to get better understand.\n"
     ]
    }
   ],
   "source": [
    "## let' create numpy array using some functions, but note: default it created array with float\n",
    "\n",
    "# It's like python range function, It range we give start,stop,step.\n",
    "\n",
    "## np.arange(start, end, step)\n",
    "\n",
    "arr8 = np.arange(1, 100)\n",
    "print(\"arr8: \", arr8, \"\\nCreated array with 1, 100. It will start from 1 it go till 99, start will be inclusive and end will exlusive.\")\n",
    "\n",
    "## we can also create array by giving step arguments.\n",
    "## ex: start: 1, end: 10, step: 3. It will create with 1, 4,7\n",
    "arr9 = np.arange(1, 20, 3)\n",
    "print(\"arr9: \",arr9, \"\\nIt created array start with 1 taking step as 3. You can observe array to get better understand.\")"
   ]
  },
  {
   "cell_type": "code",
   "execution_count": 50,
   "id": "c2da0c39",
   "metadata": {
    "scrolled": true
   },
   "outputs": [
    {
     "name": "stdout",
     "output_type": "stream",
     "text": [
      "\u001b[32m Created array with shape (2, 4), 2rows and 4columns. default dtype: float\n",
      "arr10:  [[1. 1. 1. 1.]\n",
      " [1. 1. 1. 1.]]\n",
      "\u001b[34m \n",
      "Created array with shape(5, 10), by give int datatype.\n",
      "arr11:  [[1 1 1 1 1 1 1 1 1 1]\n",
      " [1 1 1 1 1 1 1 1 1 1]\n",
      " [1 1 1 1 1 1 1 1 1 1]\n",
      " [1 1 1 1 1 1 1 1 1 1]\n",
      " [1 1 1 1 1 1 1 1 1 1]]\n",
      "\u001b[31m \n",
      "You can create which shape you want and data type.\n"
     ]
    }
   ],
   "source": [
    "### np.ones(shape, dtype) -> It return new array with given filled with one.\n",
    "\n",
    "arr10 = np.ones((2, 4))\n",
    "print(Fore.GREEN, \"Created array with shape (2, 4), 2rows and 4columns. default dtype: float\")\n",
    "print(\"arr10: \", arr10) \n",
    "\n",
    "\n",
    "print(Fore.BLUE, \"\\nCreated array with shape(5, 10), by give int datatype.\")\n",
    "arr11 = np.ones((5, 10), dtype=int)\n",
    "print(\"arr11: \", arr11)\n",
    "print(Fore.RED, \"\\nYou can create which shape you want and data type.\")"
   ]
  },
  {
   "cell_type": "code",
   "execution_count": 53,
   "id": "e37ce222",
   "metadata": {},
   "outputs": [
    {
     "name": "stdout",
     "output_type": "stream",
     "text": [
      "\u001b[32m Created array with np.zeros(), input: shape, and dtype: default(float).\n",
      "arr12:  [[0. 0. 0. 0. 0. 0. 0. 0. 0. 0. 0. 0. 0. 0.]\n",
      " [0. 0. 0. 0. 0. 0. 0. 0. 0. 0. 0. 0. 0. 0.]]\n",
      "\u001b[31m \n",
      " Note: Remaining same like np.ones().\n"
     ]
    }
   ],
   "source": [
    "## np.zeros(shape, dtype) -> This also same like np.ones() but it return array with zeros.\n",
    "\n",
    "print(Fore.GREEN, \"Created array with np.zeros(), input: shape, and dtype: default(float).\")\n",
    "arr12 = np.zeros((2, 14))\n",
    "print(\"arr12: \", arr12)\n",
    "\n",
    "print(Fore.RED, \"\\n Note: Remaining same like np.ones().\")"
   ]
  },
  {
   "cell_type": "code",
   "execution_count": 73,
   "id": "115798c9",
   "metadata": {},
   "outputs": [
    {
     "name": "stdout",
     "output_type": "stream",
     "text": [
      "\u001b[31m \n",
      " NOTE: For Better Understanding I created to arrays with same shape and data type.\n",
      "\u001b[32m \n",
      "You can find one of this array will be zero and one will be random values.\n",
      "arr13:  [[0 0 0 0 0 0]\n",
      " [0 0 0 0 0 0]\n",
      " [0 0 0 0 0 0]\n",
      " [0 0 0 0 0 0]\n",
      " [0 0 0 0 0 0]]\n",
      "arr14:  [[3801155 5570652 6619251 7536754 7536732 6357101]\n",
      " [7602290 3014748 7340137 7602297 7274600 6029422]\n",
      " [7471216 6684783 7077993 6226021 6619236 6357094]\n",
      " [7078005 6029428 6881384 7602291 7471215 3014777]\n",
      " [7405683 6881388 6619252 7798829 7077985       0]]\n"
     ]
    }
   ],
   "source": [
    "## np.empty(shape, dtype)-> It creates an array by given shape may with 0 or random values.\n",
    "\n",
    "print(Fore.RED, \"\\n NOTE: For Better Understanding I created to arrays with same shape and data type.\")\n",
    "\n",
    "print(Fore.GREEN, \"\\nYou can find one of this array will be zero and one will be random values.\")\n",
    "arr13 = np.empty((5, 6), dtype=int)\n",
    "print(\"arr13: \", arr13)\n",
    "\n",
    "arr14 = np.empty((5, 6), dtype=int)\n",
    "print(\"arr14: \", arr14)"
   ]
  },
  {
   "cell_type": "code",
   "execution_count": 80,
   "id": "ce2fd286",
   "metadata": {},
   "outputs": [
    {
     "name": "stdout",
     "output_type": "stream",
     "text": [
      "\u001b[31m Created the array with desired value. Here i passed 76.\n",
      "\u001b[32m \n",
      "arr15:  [[76. 76. 76. 76. 76. 76.]\n",
      " [76. 76. 76. 76. 76. 76.]\n",
      " [76. 76. 76. 76. 76. 76.]\n",
      " [76. 76. 76. 76. 76. 76.]\n",
      " [76. 76. 76. 76. 76. 76.]]\n"
     ]
    }
   ],
   "source": [
    "## np.full(shape, dtype, fill_value), It return new array with given and shape, it filled with given filled value\n",
    "\n",
    "\n",
    "print(Fore.RED, \"Created the array with desired value. Here i passed 76.\")\n",
    "arr15 = np.full((5, 6), dtype=float, fill_value=76)\n",
    "print(Fore.GREEN, \"\\narr15: \", arr15)"
   ]
  },
  {
   "cell_type": "code",
   "execution_count": 93,
   "id": "cf3d2584",
   "metadata": {},
   "outputs": [
    {
     "name": "stdout",
     "output_type": "stream",
     "text": [
      "\u001b[31m Created array with end point include, means endPoint=True\n",
      "\u001b[32m arr16:  [1.         1.44444444 1.88888889 2.33333333 2.77777778 3.22222222\n",
      " 3.66666667 4.11111111 4.55555556 5.        ]\n",
      "\u001b[31m \n",
      "Created array with end point exclude, means endPoint=False and with default num samples 50.\n",
      "\u001b[32m arr17:  [1.   1.08 1.16 1.24 1.32 1.4  1.48 1.56 1.64 1.72 1.8  1.88 1.96 2.04\n",
      " 2.12 2.2  2.28 2.36 2.44 2.52 2.6  2.68 2.76 2.84 2.92 3.   3.08 3.16\n",
      " 3.24 3.32 3.4  3.48 3.56 3.64 3.72 3.8  3.88 3.96 4.04 4.12 4.2  4.28\n",
      " 4.36 4.44 4.52 4.6  4.68 4.76 4.84 4.92]\n",
      "\u001b[31m \n",
      "You can check the difference between points\n",
      "\u001b[32m arr16 difference between points: 0.4444444444444444\n",
      "\u001b[32m arr17 difference between points: 0.07999999999999985\n"
     ]
    }
   ],
   "source": [
    "## np.linspace(start, stop, num=defualt: 50, endPoint=True).\n",
    "# start: Starting point\n",
    "# stop: End point\n",
    "# num: number of samples need to created, if you don't give any number, It will generate 50 default\n",
    "\"\"\"endPoint=True. This is interesting whenever, You create array with np.arange,ones,zeros. In those\n",
    "functions stop is exlusive, but it np.linspace, it is options by give endPoint=True, The stop point will\n",
    "be included. If False it will be excluded. \"\"\"\n",
    "# Return evenly spaced numbers over a specified interval.\n",
    "# Returns num evenly spaced samples, calculated over the interval [start, stop].\n",
    "# The endpoint of the interval can optionally be excluded.\n",
    "\n",
    "print(Fore.RED, \"Created array with end point include, means endPoint=True\")\n",
    "arr16 = np.linspace(1, 5, num=10)\n",
    "print(Fore.GREEN, \"arr16: \", arr16)\n",
    "\n",
    "print(Fore.RED, \"\\nCreated array with end point exclude, means endPoint=False and with default num samples 50.\")\n",
    "arr17 = np.linspace(1, 5, endpoint=False)\n",
    "print(Fore.GREEN, \"arr17: \", arr17)\n",
    "\n",
    "\n",
    "print(Fore.RED, \"\\nYou can check the difference between points\")\n",
    "print(Fore.GREEN, f\"arr16 difference between points: {arr16[2]-arr16[1]}\")\n",
    "print(Fore.GREEN, f\"arr17 difference between points: {arr17[5]-arr17[4]}\")"
   ]
  }
 ],
 "metadata": {
  "kernelspec": {
   "display_name": "Python 3 (ipykernel)",
   "language": "python",
   "name": "python3"
  },
  "language_info": {
   "codemirror_mode": {
    "name": "ipython",
    "version": 3
   },
   "file_extension": ".py",
   "mimetype": "text/x-python",
   "name": "python",
   "nbconvert_exporter": "python",
   "pygments_lexer": "ipython3",
   "version": "3.10.9"
  }
 },
 "nbformat": 4,
 "nbformat_minor": 5
}
