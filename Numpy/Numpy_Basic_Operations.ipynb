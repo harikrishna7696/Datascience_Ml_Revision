{
 "cells": [
  {
   "cell_type": "code",
   "execution_count": 1,
   "id": "8f281836",
   "metadata": {},
   "outputs": [],
   "source": [
    "import numpy as np\n",
    "from colorama import Fore"
   ]
  },
  {
   "cell_type": "code",
   "execution_count": 13,
   "id": "c970ed4e",
   "metadata": {},
   "outputs": [
    {
     "name": "stdout",
     "output_type": "stream",
     "text": [
      "\u001b[32m list:  [1, 2, 3, 4, 5, 6, 7, 8, 9]\n",
      "\u001b[31m Length of the list:  9\n",
      " We have a 9 values in the list.\n"
     ]
    }
   ],
   "source": [
    "# I all you know how to create the array if you missed check this out.\n",
    "# https://github.com/harikrishna7696/Datascience_Ml_Revision/blob/main/Numpy/Numpy_Basic.ipynb\n",
    "# I created a python list\n",
    "li = [i for i in range(1, 10)]\n",
    "print(Fore.GREEN, \"list: \", li)\n",
    "\n",
    "\n",
    "# we have a len(iterable) function in python, we can find length\n",
    "\n",
    "print(Fore.RED, \"Length of the list: \", len(li))\n",
    "print(\" We have a 9 values in the list.\")"
   ]
  },
  {
   "cell_type": "markdown",
   "id": "6b0e61c4",
   "metadata": {},
   "source": [
    "## How do you know the shape and size of an array?"
   ]
  },
  {
   "cell_type": "code",
   "execution_count": 102,
   "id": "0c5713bc",
   "metadata": {},
   "outputs": [
    {
     "name": "stdout",
     "output_type": "stream",
     "text": [
      "\u001b[32m array:  [1 2 3 4 5 6 7 8 9]\n",
      "\u001b[32m Length of the array:  9\n",
      "\u001b[31m You can observe the length of the arr and list are same 9.\n"
     ]
    }
   ],
   "source": [
    "# we can convert the list into array\n",
    "arr = np.array(li)\n",
    "print(Fore.GREEN, \"array: \",arr)\n",
    "\n",
    "# same like len in array we have arr.size, it will return the length\n",
    "print(Fore.GREEN, \"Length of the array: \", arr.size)\n",
    "\n",
    "print(Fore.RED, \"You can observe the length of the arr and list are same 9.\")"
   ]
  },
  {
   "cell_type": "markdown",
   "id": "e639df0f",
   "metadata": {},
   "source": [
    "## np.argmax()"
   ]
  },
  {
   "cell_type": "code",
   "execution_count": 103,
   "id": "c5ba8b3e",
   "metadata": {},
   "outputs": [
    {
     "name": "stdout",
     "output_type": "stream",
     "text": [
      "argmax:  8\n"
     ]
    }
   ],
   "source": [
    "# using this you can print the maximum number index\n",
    "print(\"argmax: \", np.argmax(arr))"
   ]
  },
  {
   "cell_type": "code",
   "execution_count": 33,
   "id": "4a30201f",
   "metadata": {},
   "outputs": [
    {
     "name": "stdout",
     "output_type": "stream",
     "text": [
      "\u001b[31m Using arr.ndim, we get to know how many dimensions.\n",
      "\u001b[32m Array dimension 1\n",
      " arr1:  [[1. 1. 1. 1.]\n",
      " [1. 1. 1. 1.]]\n",
      "\u001b[31m I created a array with 2 rows and 4 columns, let's check the shape.\n",
      "\u001b[32m arr1 shape:  (2, 4)\n"
     ]
    }
   ],
   "source": [
    "## some other usefull function to know about array shape and lenght\n",
    "print(Fore.RED, \"Using arr.ndim, we get to know how many dimensions.\")\n",
    "print(Fore.GREEN, \"Array dimension\", arr.ndim)\n",
    "\n",
    "## arr.shape, it return the shape how many rown and columns\n",
    "arr1 = np.ones((2, 4))\n",
    "print(\" arr1: \", arr1)\n",
    "print(Fore.RED, \"I created a array with 2 rows and 4 columns, let's check the shape.\")\n",
    "print(Fore.GREEN, \"arr1 shape: \", arr1.shape)"
   ]
  },
  {
   "cell_type": "markdown",
   "id": "c81b98bd",
   "metadata": {},
   "source": [
    "## Adding, removing, and sorting elements"
   ]
  },
  {
   "cell_type": "markdown",
   "id": "ac8bf76d",
   "metadata": {},
   "source": [
    "## Addition"
   ]
  },
  {
   "cell_type": "code",
   "execution_count": 64,
   "id": "346c7295",
   "metadata": {},
   "outputs": [],
   "source": [
    "arr2 = np.array([[5,8,9,4],[8,4,9,49]])\n",
    "arr3 = np.array([[9,8,7,5],[7,9,6,9]])"
   ]
  },
  {
   "cell_type": "markdown",
   "id": "a1778ce9",
   "metadata": {},
   "source": [
    "## np.addition()"
   ]
  },
  {
   "cell_type": "code",
   "execution_count": 51,
   "id": "8b0082c2",
   "metadata": {},
   "outputs": [
    {
     "name": "stdout",
     "output_type": "stream",
     "text": [
      "\u001b[32m Adding arrays:  [[14 16 16  9]\n",
      " [15 13 15 58]]\n",
      "\u001b[32m arr2 + arr3:  [[14 16 16  9]\n",
      " [15 13 15 58]]\n"
     ]
    }
   ],
   "source": [
    "## If you want to do the addition between to arrays.\n",
    "## array must be same shape.\n",
    "## np.add(arr1, arr2)\n",
    "arr5 = np.add(arr2, arr3)\n",
    "print(Fore.GREEN, \"Adding arrays: \", arr5)\n",
    "\n",
    "# also you can use arr1 + arr2\n",
    "print(Fore.GREEN, \"arr2 + arr3: \", arr2 + arr3)"
   ]
  },
  {
   "cell_type": "markdown",
   "id": "a7d4e1a3",
   "metadata": {},
   "source": [
    "## Multiplication"
   ]
  },
  {
   "cell_type": "markdown",
   "id": "5cc29218",
   "metadata": {},
   "source": [
    "## np.multiply()"
   ]
  },
  {
   "cell_type": "code",
   "execution_count": 58,
   "id": "69f7226d",
   "metadata": {},
   "outputs": [
    {
     "name": "stdout",
     "output_type": "stream",
     "text": [
      "\u001b[32m Multiply arrays:  [[14 16 16  9]\n",
      " [15 13 15 58]]\n",
      "\u001b[32m arr2 * arr3:  [[ 45  64  63  20]\n",
      " [ 56  36  54 441]]\n"
     ]
    }
   ],
   "source": [
    "# Multiplying two arrays.\n",
    "arr6 = np.multiply(arr2, arr3)\n",
    "print(Fore.GREEN, \"Multiply arrays: \", arr5)\n",
    "\n",
    "# also you can use arr1 * arr2.\n",
    "print(Fore.GREEN, \"arr2 * arr3: \", arr2 * arr3)"
   ]
  },
  {
   "cell_type": "markdown",
   "id": "1abb406f",
   "metadata": {},
   "source": [
    "## Subtraction"
   ]
  },
  {
   "cell_type": "markdown",
   "id": "72050166",
   "metadata": {},
   "source": [
    "## np.subtract()"
   ]
  },
  {
   "cell_type": "code",
   "execution_count": 59,
   "id": "f5ee7d61",
   "metadata": {},
   "outputs": [
    {
     "name": "stdout",
     "output_type": "stream",
     "text": [
      "\u001b[32m Subtraction arrays:  [[14 16 16  9]\n",
      " [15 13 15 58]]\n",
      "\u001b[32m arr2 - arr3:  [[14 16 16  9]\n",
      " [15 13 15 58]]\n"
     ]
    }
   ],
   "source": [
    "# Subtracting two arrays\n",
    "arr7= np.subtract(arr2, arr3)\n",
    "print(Fore.GREEN, \"Subtraction arrays: \", arr5)\n",
    "\n",
    "# also you can use arr1 - arr2\n",
    "print(Fore.GREEN, \"arr2 - arr3: \", arr2 + arr3)"
   ]
  },
  {
   "cell_type": "markdown",
   "id": "69009b2a",
   "metadata": {},
   "source": [
    "## Division"
   ]
  },
  {
   "cell_type": "markdown",
   "id": "0703960a",
   "metadata": {},
   "source": [
    "## np.divide()"
   ]
  },
  {
   "cell_type": "code",
   "execution_count": 61,
   "id": "1501439f",
   "metadata": {},
   "outputs": [
    {
     "name": "stdout",
     "output_type": "stream",
     "text": [
      "\u001b[32m Subtraction arrays:  [[0.55555556 1.         1.28571429 0.8       ]\n",
      " [1.14285714 0.44444444 1.5        5.44444444]]\n",
      "\u001b[32m arr2 % arr3:  [[14 16 16  9]\n",
      " [15 13 15 58]]\n"
     ]
    }
   ],
   "source": [
    "# Division two arrays\n",
    "arr8= np.divide(arr2, arr3)\n",
    "print(Fore.GREEN, \"Subtraction arrays: \", arr8)\n",
    "\n",
    "# also you can use arr1 % arr2\n",
    "print(Fore.GREEN, \"arr2 % arr3: \", arr2 + arr3)"
   ]
  },
  {
   "cell_type": "markdown",
   "id": "62daf996",
   "metadata": {},
   "source": [
    "## Note: For mathematical operations numpy is very faster than list."
   ]
  },
  {
   "cell_type": "code",
   "execution_count": 70,
   "id": "50a30a21",
   "metadata": {},
   "outputs": [
    {
     "name": "stdout",
     "output_type": "stream",
     "text": [
      "\u001b[32m arr2 shape:  (2, 4)\n",
      "\u001b[32m arr3 shape:  (2, 4)\n",
      " arr4:  [[ 5  8  9  4]\n",
      " [ 8  4  9 49]\n",
      " [ 9  8  7  5]\n",
      " [ 7  9  6  9]]\n",
      " arr4 shape:  (4, 4)\n",
      "\n",
      "np.stack arr8:  [[[ 5  8  9  4]\n",
      "  [ 8  4  9 49]]\n",
      "\n",
      " [[ 9  8  7  5]\n",
      "  [ 7  9  6  9]]]\n",
      "arr8 shape:  (2, 2, 4)\n"
     ]
    }
   ],
   "source": [
    "# concatenating 2 arrays in one array.\n",
    "\n",
    "print(Fore.GREEN, \"arr2 shape: \", arr2.shape)\n",
    "print(Fore.GREEN, \"arr3 shape: \", arr3.shape)\n",
    "\n",
    "# np.concatenate((arr1, arrr2, ..), axis=0, out=None, dtype=None)\n",
    "# The arrays must have the same shape, except in the dimension corresponding to axis.\n",
    "arr4 = np.concatenate((arr2, arr3))\n",
    "print(\" arr4: \", arr4)\n",
    "print(\" arr4 shape: \", arr4.shape)\n",
    "\n",
    "# np.stack(arrays, axis, ..), it will stack the array.\n",
    "# Join a sequence of arrays along a new axis.\n",
    "arr8 = np.stack((arr2, arr3))\n",
    "print(\"\\nnp.stack arr8: \", arr8)\n",
    "print(\"arr8 shape: \", arr8.shape)"
   ]
  },
  {
   "cell_type": "markdown",
   "id": "fe5d0c10",
   "metadata": {},
   "source": [
    "## Sorting"
   ]
  },
  {
   "cell_type": "markdown",
   "id": "dcf1a698",
   "metadata": {},
   "source": [
    "## np.sort()"
   ]
  },
  {
   "cell_type": "code",
   "execution_count": 78,
   "id": "cef13f70",
   "metadata": {
    "scrolled": false
   },
   "outputs": [
    {
     "name": "stdout",
     "output_type": "stream",
     "text": [
      "\u001b[31m Array with random numbers:  [71  4 92 89 40 48 56 92 31 59 50 38 22  3 44 45 99 95 48 84]\n",
      "\u001b[32m Sorted array:  [ 3  4 22 31 38 40 44 45 48 48 50 56 59 71 84 89 92 92 95 99]\n",
      " Arr9: [71  4 92 89 40 48 56 92 31 59 50 38 22  3 44 45 99 95 48 84]\n"
     ]
    }
   ],
   "source": [
    "# creating array with random numbers.\n",
    "arr9 = np.random.randint(2, 100, 20)\n",
    "print(Fore.RED, \"Array with random numbers: \", arr9)\n",
    "\n",
    "# np.sort() -> It will return as sorted array.\n",
    "# Note: It doesn't sort in original array.\n",
    "arr10 = np.sort(arr9)\n",
    "print(Fore.GREEN, \"Sorted array: \", arr10)\n",
    "# If you print the arr9, It will be in random numbers only. let's check for your better clarification.\n",
    "print(\" Arr9:\", arr9)"
   ]
  },
  {
   "cell_type": "markdown",
   "id": "8c007607",
   "metadata": {},
   "source": [
    "## np.argsort()"
   ]
  },
  {
   "cell_type": "code",
   "execution_count": 91,
   "id": "08ae74ba",
   "metadata": {},
   "outputs": [
    {
     "name": "stdout",
     "output_type": "stream",
     "text": [
      "\u001b[32m Array with Random numbers:  [71  4 92 89 40 48 56 92 31 59 50 38 22  3 44 45 99 95 48 84]\n",
      "\u001b[32m Indexes of sorted array:  [13  1 12  8 11  4 14 15  5 18 10  6  9  0 19  3  2  7 17 16]\n"
     ]
    }
   ],
   "source": [
    "# this will return the array of sorted indices.\n",
    "# Note: It doesn't sort array with values, it sort values and return indexes\n",
    "\n",
    "arr11 = np.argsort(arr9)\n",
    "print(Fore.GREEN, \"Array with Random numbers: \", arr9)\n",
    "print(Fore.GREEN, \"Indexes of sorted array: \", arr11)"
   ]
  },
  {
   "cell_type": "markdown",
   "id": "b0fd84b3",
   "metadata": {},
   "source": [
    "## Note: We have some other sort function, but for basics it will be ok. Remaining I will post in Advance array operations"
   ]
  }
 ],
 "metadata": {
  "kernelspec": {
   "display_name": "Python 3 (ipykernel)",
   "language": "python",
   "name": "python3"
  },
  "language_info": {
   "codemirror_mode": {
    "name": "ipython",
    "version": 3
   },
   "file_extension": ".py",
   "mimetype": "text/x-python",
   "name": "python",
   "nbconvert_exporter": "python",
   "pygments_lexer": "ipython3",
   "version": "3.10.9"
  }
 },
 "nbformat": 4,
 "nbformat_minor": 5
}
