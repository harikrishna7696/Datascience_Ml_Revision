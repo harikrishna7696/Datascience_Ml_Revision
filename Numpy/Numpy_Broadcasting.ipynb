{
 "cells": [
  {
   "cell_type": "raw",
   "id": "2e32e5a4",
   "metadata": {},
   "source": [
    "What is numpy Broadcasting?\n",
    "Ans: In Simple terms Broadcasting is how numpy deal with different shape during arithmetic operations. the smaller array is “broadcast” across the larger array so that they have compatible shapes. "
   ]
  },
  {
   "cell_type": "code",
   "execution_count": 5,
   "id": "c27b266c",
   "metadata": {},
   "outputs": [
    {
     "name": "stdout",
     "output_type": "stream",
     "text": [
      "(5,)\n",
      "(5,)\n"
     ]
    }
   ],
   "source": [
    "import numpy as np\n",
    "# lets create  2 arrays and let perform few mathematical operations\n",
    "arr1 = np.arange(5, 10)\n",
    "arr2 = np.arange(15, 20)\n",
    "print(arr1.shape)\n",
    "print(arr2.shape)"
   ]
  },
  {
   "cell_type": "code",
   "execution_count": 6,
   "id": "4c06a3e0",
   "metadata": {},
   "outputs": [
    {
     "name": "stdout",
     "output_type": "stream",
     "text": [
      "[20 22 24 26 28]\n"
     ]
    }
   ],
   "source": [
    "# Adding 2 arrays\n",
    "print(arr1 + arr2)\n",
    "# addition of 2 arrays"
   ]
  },
  {
   "cell_type": "code",
   "execution_count": 8,
   "id": "ef2b12bd",
   "metadata": {},
   "outputs": [
    {
     "ename": "ValueError",
     "evalue": "operands could not be broadcast together with shapes (3,) (2,) ",
     "output_type": "error",
     "traceback": [
      "\u001b[1;31m---------------------------------------------------------------------------\u001b[0m",
      "\u001b[1;31mValueError\u001b[0m                                Traceback (most recent call last)",
      "Cell \u001b[1;32mIn[8], line 4\u001b[0m\n\u001b[0;32m      2\u001b[0m arr3 \u001b[38;5;241m=\u001b[39m np\u001b[38;5;241m.\u001b[39marray([\u001b[38;5;241m1\u001b[39m, \u001b[38;5;241m2\u001b[39m, \u001b[38;5;241m45\u001b[39m])\n\u001b[0;32m      3\u001b[0m arr4 \u001b[38;5;241m=\u001b[39m np\u001b[38;5;241m.\u001b[39marray([\u001b[38;5;241m2\u001b[39m, \u001b[38;5;241m1\u001b[39m])\n\u001b[1;32m----> 4\u001b[0m \u001b[38;5;28mprint\u001b[39m(\u001b[43marr3\u001b[49m\u001b[43m \u001b[49m\u001b[38;5;241;43m+\u001b[39;49m\u001b[43m \u001b[49m\u001b[43marr4\u001b[49m)\n",
      "\u001b[1;31mValueError\u001b[0m: operands could not be broadcast together with shapes (3,) (2,) "
     ]
    }
   ],
   "source": [
    "# if you give 2 different shapes, it will throw error \"ValueError: operands could not be broadcast together with shapes\"\n",
    "arr3 = np.array([1, 2, 45])\n",
    "arr4 = np.array([2, 1])\n",
    "print(arr3 + arr4)"
   ]
  },
  {
   "cell_type": "code",
   "execution_count": 16,
   "id": "9008cd1a",
   "metadata": {},
   "outputs": [
    {
     "name": "stdout",
     "output_type": "stream",
     "text": [
      "(2, 4) (2, 1)\n",
      "[[ 6  5  9 10]\n",
      " [10 14 12 13]]\n"
     ]
    }
   ],
   "source": [
    "# The array must be match interms of row or columns\n",
    "# ex: (2,4) (2, 1)\n",
    "\n",
    "arr5 = np.array([[2, 1, 5, 6], [5,9,7,8]])\n",
    "arr6 = np.array([[4], [5]])\n",
    "print(arr5.shape, arr6.shape)\n",
    "print(arr5+arr6)"
   ]
  },
  {
   "cell_type": "code",
   "execution_count": 17,
   "id": "fd9fa7b5",
   "metadata": {},
   "outputs": [
    {
     "name": "stdout",
     "output_type": "stream",
     "text": [
      "(2, 4) (1, 4)\n",
      "[[ 6  6 13 11]\n",
      " [ 9 14 15 13]]\n"
     ]
    }
   ],
   "source": [
    "# ex: (2,4) (1, 4)\n",
    "\n",
    "arr5 = np.array([[2, 1, 5, 6], [5,9,7,8]])\n",
    "arr6 = np.array([[4, 5, 8,5]])\n",
    "print(arr5.shape, arr6.shape)\n",
    "print(arr5+arr6)"
   ]
  }
 ],
 "metadata": {
  "kernelspec": {
   "display_name": "Python 3 (ipykernel)",
   "language": "python",
   "name": "python3"
  },
  "language_info": {
   "codemirror_mode": {
    "name": "ipython",
    "version": 3
   },
   "file_extension": ".py",
   "mimetype": "text/x-python",
   "name": "python",
   "nbconvert_exporter": "python",
   "pygments_lexer": "ipython3",
   "version": "3.10.9"
  }
 },
 "nbformat": 4,
 "nbformat_minor": 5
}
